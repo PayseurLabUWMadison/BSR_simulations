{
 "cells": [
  {
   "cell_type": "code",
   "execution_count": 1,
   "id": "1c1addd1",
   "metadata": {},
   "outputs": [],
   "source": [
    "import msprime\n",
    "import copy\n"
   ]
  },
  {
   "cell_type": "markdown",
   "id": "53484e4b",
   "metadata": {},
   "source": [
    "### Question: What is the average tMRCA for sex biased populations experiencing a bottleneck? \n",
    "* Do the tMRCAs fall within the reduced epoch?\n",
    "* Can they partially explain patterns of variation observed? "
   ]
  },
  {
   "cell_type": "markdown",
   "id": "5e9e69bf",
   "metadata": {},
   "source": [
    "__Step 1: Create Demographic History__"
   ]
  },
  {
   "cell_type": "code",
   "execution_count": 2,
   "id": "dbfc6952",
   "metadata": {},
   "outputs": [
    {
     "data": {
      "text/html": [
       "<div style=\"margin-left:20px\"><div><style scoped=\"\">\n",
       "            .tskit-table thead tr th:only-of-type {vertical-align: middle;}\n",
       "            .tskit-table thead tr th {text-align: center;vertical-align: top;}\n",
       "            .tskit-table tbody td {text-align: right;padding: 0.5em 0.5em;}\n",
       "            .tskit-table tbody th {padding: 0.5em 0.5em;}\n",
       "        </style><b>Populations (1)</b><table border=\"1\" class=\"tskit-table\"><thead><tr><th>id</th><th>name</th><th>description</th><th>initial_size</th><th>growth_rate</th><th>default_sampling_time</th><th>extra_metadata</th></tr></thead><tbody><tr><td>0</td><td>A</td><td></td><td>10000.0</td><td>0</td><td>0</td><td>{}</td></tr></tbody></table></div><div><style scoped=\"\">\n",
       "            .tskit-table thead tr th:only-of-type {vertical-align: middle;}\n",
       "            .tskit-table thead tr th {text-align: center;vertical-align: top;}\n",
       "            .tskit-table tbody td {text-align: right;padding: 0.5em 0.5em;}\n",
       "            .tskit-table tbody th {padding: 0.5em 0.5em;}\n",
       "        </style><b>Migration matrix (all zero)</b><table border=\"1\" class=\"tskit-table\"><thead><tr></tr></thead><tbody></tbody></table></div><div><style scoped=\"\">\n",
       "            .tskit-table thead tr th:only-of-type {vertical-align: middle;}\n",
       "            .tskit-table thead tr th {text-align: center;vertical-align: top;}\n",
       "            .tskit-table tbody td {text-align: right;padding: 0.5em 0.5em;}\n",
       "            .tskit-table tbody th {padding: 0.5em 0.5em;}\n",
       "        </style><b>Events (2)</b><table border=\"1\" class=\"tskit-table\"><thead><tr><th>time</th><th>type</th><th>parameters</th><th>effect</th></tr></thead><tbody><tr><td>500</td><td><a href='https://tskit.dev/msprime/docs/latest/api.html#msprime.Demography.add_population_parameters_change'>Population parameter change</a></td><td>population=-1, initial_size=500</td><td>initial_size → 5e+02 for all populations</td></tr><tr><td>1000</td><td><a href='https://tskit.dev/msprime/docs/latest/api.html#msprime.Demography.add_population_parameters_change'>Population parameter change</a></td><td>population=-1, initial_size=10000</td><td>initial_size → 1e+04 for all populations</td></tr></tbody></table></div></div>"
      ],
      "text/plain": [
       "Demography(populations=[Population(initial_size=10000, growth_rate=0, name='A', description='', extra_metadata={}, default_sampling_time=None, initially_active=None, id=0)], events=[PopulationParametersChange(time=500, initial_size=500, growth_rate=None, population=-1), PopulationParametersChange(time=1000, initial_size=10000, growth_rate=None, population=-1)], migration_matrix=array([[0.]]))"
      ]
     },
     "execution_count": 2,
     "metadata": {},
     "output_type": "execute_result"
    }
   ],
   "source": [
    "BSRS = msprime.Demography()\n",
    "BSRS.add_population(name=\"A\", initial_size=10000)\n",
    "BSRS.add_population_parameters_change(time=500, initial_size = 500)\n",
    "BSRS.add_population_parameters_change(time=1000, initial_size = 10000)\n",
    "\n",
    "BSRS"
   ]
  },
  {
   "cell_type": "markdown",
   "id": "fb0bc364",
   "metadata": {},
   "source": [
    "__Step 2: Bring in function to adjust Ne based on BSR__"
   ]
  },
  {
   "cell_type": "code",
   "execution_count": 3,
   "id": "460f8160",
   "metadata": {},
   "outputs": [],
   "source": [
    "def adjust_input_params_A(pf, Demo):\n",
    "    \"\"\"\n",
    "    This function changes all population sizes of the given demographic history based on the provided BSR. \n",
    "    Equation identical to that used in HTSimulate and only should be used for simulating the Autosome.\n",
    "    \"\"\"\n",
    "    aut_var = 4*pf*(1-pf)\n",
    "    Demo_new = copy.deepcopy(Demo)\n",
    "    \n",
    "    for pop in Demo_new.values():\n",
    "        pop.initial_size *= aut_var\n",
    "    for event in Demo_new.events:\n",
    "        if event.initial_size == None:\n",
    "            continue\n",
    "        event.initial_size *= aut_var\n",
    "    return Demo_new\n",
    "    \n",
    "def adjust_input_params_X(pf, Demo):\n",
    "    \"\"\"\n",
    "    This function changes all population sizes of the given demographic history based on the provided BSR. \n",
    "    Equation identical to that used in HTSimulate and only should be used for simulating the X chromosome.\n",
    "    \"\"\"\n",
    "    x_var = (9 * pf * (1-pf))/(2 * (2-pf))\n",
    "    Demo_new = copy.deepcopy(Demo)\n",
    "    \n",
    "    for pop in Demo_new.values():\n",
    "        pop.initial_size *= x_var\n",
    "    for event in Demo_new.events:\n",
    "        if event.initial_size == None:\n",
    "            continue\n",
    "        event.initial_size *= x_var\n",
    "    return Demo_new\n",
    "\n",
    "def get_rec_X(pf, rec_rate):\n",
    "    \"\"\"\n",
    "    Because the recombination changes with different BSRs for the X, this function will adjust the given rate\n",
    "    based on the provided pf. \n",
    "    \"\"\"\n",
    "    new_rate = (2*pf)/(1+pf) * rec_rate\n",
    "    return new_rate "
   ]
  },
  {
   "cell_type": "markdown",
   "id": "bcaeb6eb",
   "metadata": {},
   "source": [
    "__Step 3: Simulate some tree sequences for variable pfs__"
   ]
  },
  {
   "cell_type": "markdown",
   "id": "65ef49e0",
   "metadata": {},
   "source": [
    "Autosome:"
   ]
  },
  {
   "cell_type": "code",
   "execution_count": 4,
   "id": "903dbde6",
   "metadata": {},
   "outputs": [],
   "source": [
    "\n",
    "A_Sim_01 = msprime.sim_ancestry(samples = 10, sequence_length = 10000, ploidy=2,\n",
    "                                demography = adjust_input_params_A(0.1,BSRS), num_replicates=5000)\n",
    "\n",
    "A_Sim_015 = msprime.sim_ancestry(samples = 10, sequence_length = 10000, ploidy=2,\n",
    "                                demography = adjust_input_params_A(0.15,BSRS), num_replicates=5000)\n",
    "\n",
    "A_Sim_02 = msprime.sim_ancestry(samples = 10, sequence_length = 10000, ploidy=2,\n",
    "                                 demography = adjust_input_params_A(0.2,BSRS), num_replicates=5000)\n",
    "\n",
    "A_Sim_08 = msprime.sim_ancestry(samples = 10, sequence_length = 10000, ploidy=2,\n",
    "                             demography = adjust_input_params_A(0.8,BSRS), num_replicates=5000)\n",
    "\n",
    "A_Sim_085 = msprime.sim_ancestry(samples = 10, sequence_length = 10000, ploidy=2,\n",
    "                             demography = adjust_input_params_A(0.85,BSRS), num_replicates=5000)\n",
    "\n",
    "A_Sim_09 = msprime.sim_ancestry(samples = 10, sequence_length = 10000, ploidy=2,\n",
    "                             demography = adjust_input_params_A(0.9,BSRS), num_replicates=5000)\n"
   ]
  },
  {
   "cell_type": "code",
   "execution_count": 6,
   "id": "a4946710",
   "metadata": {
    "scrolled": true
   },
   "outputs": [],
   "source": [
    "tMRCAs = {'0.1':[], '0.15':[], '0.2':[], '0.8':[], '0.85':[], '0.9':[]}\n",
    "Branch_Lens = {'0.1':[], '0.15':[], '0.2':[], '0.8':[], '0.85':[], '0.9':[]}\n",
    "\n",
    "for ts in A_Sim_01:\n",
    "    for tree in ts.trees():\n",
    "        tMRCAs['0.1'].append(tree.time(tree.root))\n",
    "        Branch_Lens['0.1'].append(tree.total_branch_length)\n",
    "\n",
    "for ts in A_Sim_015:\n",
    "    for tree in ts.trees():\n",
    "        tMRCAs['0.15'].append(tree.time(tree.root))\n",
    "        Branch_Lens['0.15'].append(tree.total_branch_length)\n",
    "\n",
    "for ts in A_Sim_02:    \n",
    "    for tree in ts.trees():\n",
    "        tMRCAs['0.2'].append(tree.time(tree.root))\n",
    "        Branch_Lens['0.2'].append(tree.total_branch_length)\n",
    "        \n",
    "for ts in A_Sim_08:    \n",
    "    for tree in ts.trees():\n",
    "        tMRCAs['0.8'].append(tree.time(tree.root))\n",
    "        Branch_Lens['0.8'].append(tree.total_branch_length)\n",
    "  \n",
    "for ts in A_Sim_085:\n",
    "    for tree in ts.trees():\n",
    "        tMRCAs['0.85'].append(tree.time(tree.root))\n",
    "        Branch_Lens['0.85'].append(tree.total_branch_length)\n",
    "        \n",
    "for ts in A_Sim_09: \n",
    "    for tree in ts.trees():\n",
    "        tMRCAs['0.9'].append(tree.time(tree.root))\n",
    "        Branch_Lens['0.9'].append(tree.total_branch_length)\n"
   ]
  },
  {
   "cell_type": "code",
   "execution_count": 7,
   "id": "896c5cd0",
   "metadata": {
    "scrolled": true
   },
   "outputs": [
    {
     "data": {
      "text/plain": [
       "{'0.1': [5346.70786066362],\n",
       " '0.15': [10340.046417703195],\n",
       " '0.2': [14874.051625226277],\n",
       " '0.8': [15303.991960499101],\n",
       " '0.85': [10194.493008825964],\n",
       " '0.9': [5398.145848146192]}"
      ]
     },
     "execution_count": 7,
     "metadata": {},
     "output_type": "execute_result"
    }
   ],
   "source": [
    "avg_tMRCAs = {'0.1':[], '0.15':[], '0.2':[], '0.8':[], '0.85':[], '0.9':[]}\n",
    "avg_Branch_Lens = {'0.1':[], '0.15':[], '0.2':[], '0.8':[], '0.85':[], '0.9':[]}\n",
    "\n",
    "for key in tMRCAs.keys():\n",
    "    avg_tMRCAs[key].append(sum(tMRCAs[key]) / len(tMRCAs[key]))\n",
    "    avg_Branch_Lens[key].append(sum(Branch_Lens[key]) / len(Branch_Lens[key]))\n",
    "    \n",
    "avg_tMRCAs"
   ]
  },
  {
   "cell_type": "code",
   "execution_count": 8,
   "id": "b06e4a2a",
   "metadata": {},
   "outputs": [
    {
     "data": {
      "text/plain": [
       "{'0.1': [18470.79068127841],\n",
       " '0.15': [30297.21143614607],\n",
       " '0.2': [41493.976113634875],\n",
       " '0.8': [42452.71812685504],\n",
       " '0.85': [30021.967210592586],\n",
       " '0.9': [18516.247468234727]}"
      ]
     },
     "execution_count": 8,
     "metadata": {},
     "output_type": "execute_result"
    }
   ],
   "source": [
    "avg_Branch_Lens"
   ]
  },
  {
   "cell_type": "markdown",
   "id": "3521de72",
   "metadata": {},
   "source": [
    "X chromosome:"
   ]
  },
  {
   "cell_type": "code",
   "execution_count": 10,
   "id": "4be17a2b",
   "metadata": {},
   "outputs": [],
   "source": [
    "\n",
    "X_Sim_02 = msprime.sim_ancestry(samples = 10, sequence_length = 10000, ploidy=2, \n",
    "                                demography = adjust_input_params_X(0.2,BSRS), num_replicates = 5000)\n",
    "\n",
    "X_Sim_025 = msprime.sim_ancestry(samples = 10, sequence_length = 10000, ploidy=2, \n",
    "                                demography = adjust_input_params_X(0.25,BSRS), num_replicates = 5000)\n",
    "\n",
    "X_Sim_03 = msprime.sim_ancestry(samples = 10, sequence_length = 10000, ploidy=2, \n",
    "                                demography = adjust_input_params_X(0.3,BSRS), num_replicates = 5000)\n",
    "\n",
    "X_Sim_08 = msprime.sim_ancestry(samples = 10, sequence_length = 10000, ploidy=2, \n",
    "                                demography = adjust_input_params_X(0.8,BSRS), num_replicates = 5000)\n",
    "\n",
    "X_Sim_085 = msprime.sim_ancestry(samples = 10, sequence_length = 10000, ploidy=2, \n",
    "                                demography = adjust_input_params_X(0.85,BSRS), num_replicates = 5000)\n",
    "\n",
    "X_Sim_09 = msprime.sim_ancestry(samples = 10, sequence_length = 10000, ploidy=2, \n",
    "                                demography = adjust_input_params_X(0.9,BSRS), num_replicates = 5000)"
   ]
  },
  {
   "cell_type": "code",
   "execution_count": 11,
   "id": "92dafea9",
   "metadata": {},
   "outputs": [],
   "source": [
    "tMRCAs = {'0.2':[], '0.25':[], '0.3':[], '0.8':[], '0.85':[], '0.9':[]}\n",
    "Branch_Lens = {'0.2':[], '0.25':[], '0.3':[], '0.8':[], '0.85':[], '0.9':[]}\n",
    "\n",
    "for ts in X_Sim_02:\n",
    "    for tree in ts.trees():\n",
    "        tMRCAs['0.2'].append(tree.time(tree.root))\n",
    "        Branch_Lens['0.2'].append(tree.total_branch_length)\n",
    "\n",
    "for ts in X_Sim_025:\n",
    "    for tree in ts.trees():\n",
    "        tMRCAs['0.25'].append(tree.time(tree.root))\n",
    "        Branch_Lens['0.25'].append(tree.total_branch_length)\n",
    "\n",
    "for ts in X_Sim_03:    \n",
    "    for tree in ts.trees():\n",
    "        tMRCAs['0.3'].append(tree.time(tree.root))\n",
    "        Branch_Lens['0.3'].append(tree.total_branch_length)\n",
    "        \n",
    "for ts in X_Sim_08:    \n",
    "    for tree in ts.trees():\n",
    "        tMRCAs['0.8'].append(tree.time(tree.root))\n",
    "        Branch_Lens['0.8'].append(tree.total_branch_length)\n",
    "  \n",
    "for ts in X_Sim_085:\n",
    "    for tree in ts.trees():\n",
    "        tMRCAs['0.85'].append(tree.time(tree.root))\n",
    "        Branch_Lens['0.85'].append(tree.total_branch_length)\n",
    "        \n",
    "for ts in X_Sim_09: \n",
    "    for tree in ts.trees():\n",
    "        tMRCAs['0.9'].append(tree.time(tree.root))\n",
    "        Branch_Lens['0.9'].append(tree.total_branch_length)\n"
   ]
  },
  {
   "cell_type": "code",
   "execution_count": 12,
   "id": "634c7096",
   "metadata": {},
   "outputs": [
    {
     "data": {
      "text/plain": [
       "{'0.2': [6562.577642995768],\n",
       " '0.25': [9352.085706223004],\n",
       " '0.3': [11982.319212216398],\n",
       " '0.8': [13666.231118292206],\n",
       " '0.85': [9948.775129600877],\n",
       " '0.9': [5596.433949250502]}"
      ]
     },
     "execution_count": 12,
     "metadata": {},
     "output_type": "execute_result"
    }
   ],
   "source": [
    "avg_tMRCAs = {'0.2':[], '0.25':[], '0.3':[], '0.8':[], '0.85':[], '0.9':[]}\n",
    "avg_Branch_Lens = {'0.2':[], '0.25':[], '0.3':[], '0.8':[], '0.85':[], '0.9':[]}\n",
    "\n",
    "for key in tMRCAs.keys():\n",
    "    avg_tMRCAs[key].append(sum(tMRCAs[key]) / len(tMRCAs[key]))\n",
    "    avg_Branch_Lens[key].append(sum(Branch_Lens[key]) / len(Branch_Lens[key]))\n",
    "    \n",
    "avg_tMRCAs"
   ]
  },
  {
   "cell_type": "code",
   "execution_count": 13,
   "id": "996ad9e3",
   "metadata": {},
   "outputs": [
    {
     "data": {
      "text/plain": [
       "{'0.2': [21318.125355218275],\n",
       " '0.25': [28008.882644606525],\n",
       " '0.3': [34350.63090427721],\n",
       " '0.8': [38356.20390457532],\n",
       " '0.85': [29355.858713731766],\n",
       " '0.9': [19034.059723831702]}"
      ]
     },
     "execution_count": 13,
     "metadata": {},
     "output_type": "execute_result"
    }
   ],
   "source": [
    "avg_Branch_Lens"
   ]
  },
  {
   "cell_type": "markdown",
   "id": "24fb750d",
   "metadata": {},
   "source": [
    "If a population's common ancestor occurs < 10,000 generations ago, the strange patterns in LD are observed. All of these trees are rooted prior to the reduction in size, but the patterns still emerge... What is going on? "
   ]
  },
  {
   "cell_type": "markdown",
   "id": "c0223e95",
   "metadata": {},
   "source": [
    "Compare internal vs external branch lengths? "
   ]
  },
  {
   "cell_type": "code",
   "execution_count": null,
   "id": "96259131",
   "metadata": {},
   "outputs": [],
   "source": []
  }
 ],
 "metadata": {
  "kernelspec": {
   "display_name": "simulation_env",
   "language": "python",
   "name": "simulation_env"
  },
  "language_info": {
   "codemirror_mode": {
    "name": "ipython",
    "version": 3
   },
   "file_extension": ".py",
   "mimetype": "text/x-python",
   "name": "python",
   "nbconvert_exporter": "python",
   "pygments_lexer": "ipython3",
   "version": "3.10.12"
  }
 },
 "nbformat": 4,
 "nbformat_minor": 5
}
